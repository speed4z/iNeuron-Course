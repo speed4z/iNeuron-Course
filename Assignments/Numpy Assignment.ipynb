{
 "cells": [
  {
   "cell_type": "markdown",
   "metadata": {},
   "source": [
    "## Problem 1:\n",
    "Write a function so that the columns of the output matrix are powers of the input\n",
    "vector.\n",
    "The order of the powers is determined by the increasing boolean argument. Specifically, when\n",
    "increasing is False, the i-th output column is the input vector raised element-wise to the power\n",
    "of N - i - 1.\n",
    "\n",
    "HINT: Such a matrix with a geometric progression in each row is named for Alexandre-\n",
    "Theophile Vandermonde."
   ]
  },
  {
   "cell_type": "code",
   "execution_count": 36,
   "metadata": {},
   "outputs": [
    {
     "name": "stdout",
     "output_type": "stream",
     "text": [
      "Enter array of numbers separated by space: 1 2 3 5\n",
      "Number of columns in power matrix: 3\n",
      "Enter 0 or 1 as truth value for increasing order: 1\n",
      "True\n",
      "\n",
      "\n",
      " [[ 1  1  1]\n",
      " [ 1  2  4]\n",
      " [ 1  3  9]\n",
      " [ 1  5 25]]\n",
      "\n",
      "in built vander:\n",
      " [[ 1  1  1]\n",
      " [ 1  2  4]\n",
      " [ 1  3  9]\n",
      " [ 1  5 25]]\n"
     ]
    }
   ],
   "source": [
    "import numpy as np\n",
    "#We are creating function similar to numpy.vander\n",
    "\n",
    "def power_mat(arr,N,incr=True):       \n",
    "\n",
    "    if incr:\n",
    "        result = np.mat([arr**i for i in range(N)]).transpose()\n",
    "        return result\n",
    "    else:\n",
    "        result = np.mat([arr**(N-i-1) for i in range(N)]).transpose()\n",
    "        return result\n",
    "        \n",
    "    \n",
    "if __name__ == \"__main__\":  \n",
    "    #Get array and number of columns and increasing order\n",
    "    \n",
    "    a= input(\"Enter array of numbers separated by space: \").split()    \n",
    "    N= int(input(\"Number of columns in power matrix: \"))\n",
    "    incr = bool(int(input(\"Enter 0 or 1 as truth value for increasing order: \")))\n",
    "    print(incr)\n",
    "    \n",
    "    \n",
    "    #convert array into integer numpy array\n",
    "    arr = np.array(a,dtype=int)\n",
    "    \n",
    "    #Call power matrix function\n",
    "    res = power_mat(arr,N,incr)\n",
    "    \n",
    "    #Display output \n",
    "    print('\\n\\n',res,end='\\n\\n')      \n",
    "    print('in built vander:\\n',np.vander(arr,N,incr))\n"
   ]
  },
  {
   "cell_type": "markdown",
   "metadata": {},
   "source": [
    "## Problem Statement 2:\n",
    "\n",
    "Given a sequence of n values x1, x2, ..., xn and a window size k>0, the k-th moving average of\n",
    "the given sequence is defined as follows:\n",
    "    \n",
    "The moving average sequence has n-k+1 elements as shown below.\n",
    "\n",
    "The moving averages with k=4 of a ten-value sequence (n=10) is shown below\n"
   ]
  },
  {
   "cell_type": "code",
   "execution_count": null,
   "metadata": {},
   "outputs": [],
   "source": [
    "# i 1 2 3 4 5 6 7 8 9 10\n",
    "# ===== == == == == == == == == == ==\n",
    "# Input 10 20 30 40 50 60 70 80 90 100\n",
    "# y1 25 = (10+20+30+40)/4\n",
    "# y2 35 = (20+30+40+50)/4\n",
    "# y3 45 = (30+40+50+60)/4\n",
    "# y4 55 = (40+50+60+70)/4\n",
    "# y5 65 = (50+60+70+80)/4\n",
    "# y6 75 = (60+70+80+90)/4\n",
    "# y7 85 = (70+80+90+100)/4"
   ]
  },
  {
   "cell_type": "markdown",
   "metadata": {},
   "source": [
    "Thus, the moving average sequence has n-k+1=10-4+1=7 values"
   ]
  },
  {
   "cell_type": "code",
   "execution_count": 50,
   "metadata": {},
   "outputs": [
    {
     "name": "stdout",
     "output_type": "stream",
     "text": [
      "Enter sequence of numbers separated by space: 1 2 3 5 6 77 8\n",
      "Enter positive window size 'k' for moving average:  4\n",
      "Moving average array of sequence over interval  4 is :\n",
      " [2.75, 4.0, 22.75, 24.0]\n"
     ]
    }
   ],
   "source": [
    "import numpy as np\n",
    "\n",
    "def mov_avg(a,k):\n",
    "    #convert sequence into integer numpy array\n",
    "    arr = np.array(x,dtype=int)\n",
    "    n= len(arr)\n",
    "    #Initialize array for storing moving average\n",
    "    m_avg = []\n",
    "    sum1 = 0    \n",
    "    for i in range(n-k+1):\n",
    "        for j in range(k):\n",
    "            sum1 = sum1+arr[i+j]\n",
    "        avg = sum1/k\n",
    "        m_avg.append(avg)\n",
    "        sum1=0\n",
    "        #display output\n",
    "    print(\"Moving average array of sequence over interval \",k,\"is :\\n\",m_avg)\n",
    "\n",
    "        \n",
    "#Input the sequence and window size and Test function\n",
    "x = input(\"Enter sequence of numbers separated by space: \").split()\n",
    "k = int(input(\"Enter positive window size 'k' for moving average:  \"))\n",
    "\n",
    "mov_avg(x,k)    "
   ]
  },
  {
   "cell_type": "markdown",
   "metadata": {},
   "source": [
    "### Question:\n",
    "    \n",
    "    Write a function to find moving average in an array over a window:\n",
    "Test it over [3, 5, 7, 2, 8, 10, 11, 65, 72, 81, 99, 100, 150] and window of 3."
   ]
  },
  {
   "cell_type": "code",
   "execution_count": 51,
   "metadata": {},
   "outputs": [
    {
     "name": "stdout",
     "output_type": "stream",
     "text": [
      "Moving average array of sequence over interval  3 is :\n",
      " [2.0, 3.3333333333333335, 4.666666666666667, 29.333333333333332, 30.333333333333332]\n"
     ]
    }
   ],
   "source": [
    "#Testin g for given test case\n",
    "test_array = [3, 5, 7, 2, 8, 10, 11, 65, 72, 81, 99, 100, 150]\n",
    "test_k = 3\n",
    "mov_avg(test_array,test_k)"
   ]
  }
 ],
 "metadata": {
  "kernelspec": {
   "display_name": "Python 3",
   "language": "python",
   "name": "python3"
  },
  "language_info": {
   "codemirror_mode": {
    "name": "ipython",
    "version": 3
   },
   "file_extension": ".py",
   "mimetype": "text/x-python",
   "name": "python",
   "nbconvert_exporter": "python",
   "pygments_lexer": "ipython3",
   "version": "3.8.5"
  }
 },
 "nbformat": 4,
 "nbformat_minor": 4
}
