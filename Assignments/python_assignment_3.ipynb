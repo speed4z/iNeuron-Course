{
 "cells": [
  {
   "cell_type": "markdown",
   "metadata": {},
   "source": [
    "1.Write a Python Program to implement your own myreduce() function \n",
    "which works exactly like Python's built-in function reduce()"
   ]
  },
  {
   "cell_type": "code",
   "execution_count": 64,
   "metadata": {},
   "outputs": [
    {
     "name": "stdout",
     "output_type": "stream",
     "text": [
      "using reduce function\n",
      "18\n",
      "13\n",
      "\n",
      "using myreduce function\n",
      "sum of lst1 is 18\n",
      "max num of lst1 is 13\n"
     ]
    }
   ],
   "source": [
    "import functools as fnct\n",
    "\n",
    "#---------------------------------------------------------------\n",
    "def myreduce(func,lst,initializer=None):\n",
    "    it=iter(lst)\n",
    "    if initializer is None:\n",
    "        value = next(it)\n",
    "    else:\n",
    "        value = initializer\n",
    "        \n",
    "    flag =1        \n",
    "    for element in lst:\n",
    "        '''\n",
    "        use of flag to skip first iteration as \n",
    "        value = first iterable if no initializer is passed.        \n",
    "        '''\n",
    "        if flag and initializer is None:\n",
    "            flag=0 \n",
    "            continue\n",
    "        else:\n",
    "            value=func(value,element)\n",
    "    return value\n",
    "    \n",
    "#-------------------------------------------------------------\n",
    "lst1=[1,2,3,5,4]\n",
    "\n",
    "def sum1(a,b):\n",
    "    return a+b\n",
    "\n",
    "def max1(a,b):    \n",
    "    return a if a>b else b\n",
    "print('using reduce function')\n",
    "print(fnct.reduce(sum1,lst1,3))\n",
    "print(fnct.reduce(max1,lst1,13),end='\\n\\n')\n",
    "\n",
    "print('using myreduce function')\n",
    "print('sum of lst1 is' , myreduce(sum1,lst1,3))\n",
    "print('max num of lst1 is' , myreduce(max1,lst1,13))\n",
    "    \n",
    "   "
   ]
  },
  {
   "cell_type": "markdown",
   "metadata": {},
   "source": [
    "2.Write a Python program to implement your own myfilter() function which works exactly like Python's built-in function filter()"
   ]
  },
  {
   "cell_type": "code",
   "execution_count": 75,
   "metadata": {},
   "outputs": [
    {
     "name": "stdout",
     "output_type": "stream",
     "text": [
      "using filter function, even list is: [2, 6, 8]\n",
      "using myfilter function, odd list is: [1, 3, 5, 9]\n"
     ]
    }
   ],
   "source": [
    "#-------------------------------------------\n",
    "def myfilter(func,lst):\n",
    "    #if function passed is None then all True elements are returned\n",
    "    if func is None:\n",
    "         for element in lst:\n",
    "            if element:\n",
    "                yield element        \n",
    "    else:\n",
    "        for element in lst:\n",
    "            if func(element):\n",
    "                yield element        \n",
    "#-------------------------------------------\n",
    "lst1=[1,2,3,5,6,8,9]\n",
    "\n",
    "def even(a):\n",
    "    if a%2==0:\n",
    "        return a\n",
    "    \n",
    "def odd(a):\n",
    "    if a%2!=0:\n",
    "        return a\n",
    "\n",
    "evenlist=list(filter(even,lst1))\n",
    "print(\"using filter function, even list is:\",evenlist)\n",
    "\n",
    "oddlist=list(myfilter(odd,lst1))\n",
    "print(\"using myfilter function, odd list is:\",oddlist)\n"
   ]
  },
  {
   "cell_type": "markdown",
   "metadata": {},
   "source": [
    "3.Implement List comprehensions to produce the following lists.\n",
    "Write List comprehensions to produce the following Lists\n",
    "\n",
    "['x', 'xx', 'xxx', 'xxxx', 'y', 'yy', 'yyy', 'yyyy', 'z', 'zz', 'zzz', 'zzzz']\n",
    "\n",
    "['x', 'y', 'z', 'xx', 'yy', 'zz', 'xxx', 'yyy', 'zzz', 'xxxx', 'yyyy', 'zzzz']\n",
    "\n",
    "[[2], [3], [4], [3], [4], [5], [4], [5], [6]] \n",
    "\n",
    "[[2, 3, 4, 5], [3, 4, 5, 6], [4, 5, 6, 7], [5, 6, 7, 8]]\n",
    "\n",
    "[(1, 1), (2, 1), (3, 1), (1, 2), (2, 2), (3, 2), (1, 3), (2, 3), (3, 3)]"
   ]
  },
  {
   "cell_type": "code",
   "execution_count": 29,
   "metadata": {},
   "outputs": [
    {
     "name": "stdout",
     "output_type": "stream",
     "text": [
      "['x', 'xx', 'xxx', 'xxxx', 'y', 'yy', 'yyy', 'yyyy', 'z', 'zz', 'zzz', 'zzzz']\n",
      "['x', 'y', 'z', 'xx', 'yy', 'zz', 'xxx', 'yyy', 'zzz', 'xxxx', 'yyyy', 'zzzz']\n",
      "[[2], [3], [4], [3], [4], [5], [4], [5], [6]]\n",
      "[[2, 3, 4, 5], [3, 4, 5, 6], [4, 5, 6, 7], [5, 6, 7, 8]]\n",
      "[(1, 1), (2, 1), (3, 1), (1, 2), (2, 2), (3, 2), (1, 3), (2, 3), (3, 3)]\n"
     ]
    }
   ],
   "source": [
    "#------------------------------------------------------\n",
    "lst1=[a*i for a in ['x','y','z'] for i in range(1,5)]\n",
    "print(lst1)\n",
    "\n",
    "lst2=[a*i for i in range(1,5) for a in ['x','y','z']]\n",
    "print(lst2)\n",
    "\n",
    "lst3=[[j] for i in range(2,5) for j in range(i,i+3)]\n",
    "print(lst3)\n",
    "\n",
    "lst4=[[j for j in range(i,i+4)] for i in range(2,6)]\n",
    "print(lst4)\n",
    "\n",
    "tup1=((a,b) for b in range(1,4) for a in range(1,4))\n",
    "print(list(tup1))\n",
    "#------------------------------------------------------"
   ]
  },
  {
   "cell_type": "code",
   "execution_count": null,
   "metadata": {},
   "outputs": [],
   "source": []
  }
 ],
 "metadata": {
  "kernelspec": {
   "display_name": "Python 3",
   "language": "python",
   "name": "python3"
  },
  "language_info": {
   "codemirror_mode": {
    "name": "ipython",
    "version": 3
   },
   "file_extension": ".py",
   "mimetype": "text/x-python",
   "name": "python",
   "nbconvert_exporter": "python",
   "pygments_lexer": "ipython3",
   "version": "3.8.5"
  }
 },
 "nbformat": 4,
 "nbformat_minor": 4
}
